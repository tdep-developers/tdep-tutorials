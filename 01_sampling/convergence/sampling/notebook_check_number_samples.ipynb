{
 "cells": [
  {
   "cell_type": "code",
   "execution_count": null,
   "id": "20af5fb4-9cc0-4f04-a674-9f8b2300951a",
   "metadata": {},
   "outputs": [],
   "source": [
    "from pathlib import Path\n",
    "\n",
    "import numpy as np\n",
    "from matplotlib import pyplot as plt"
   ]
  },
  {
   "cell_type": "code",
   "execution_count": null,
   "id": "4f7c3a80-3d0f-4b94-8f9d-5e015d5e1444",
   "metadata": {},
   "outputs": [],
   "source": [
    "def read_file(file):\n",
    "    \"\"\"return first row = Gamma point and last row = L point\"\"\"\n",
    "    data = np.loadtxt(file)\n",
    "    G = data[0, 1:]\n",
    "    L = data[-1, 1:]\n",
    "    return G, L"
   ]
  },
  {
   "cell_type": "code",
   "execution_count": null,
   "id": "be4ec5c7-e735-4687-aa90-a822763d97c8",
   "metadata": {},
   "outputs": [],
   "source": [
    "# find dispersions for 216 atom supercell\n",
    "files = sorted(\n",
    "    Path(\"n_216/\").glob(\"stride*/outfile.dispersion_relations\"), reverse=True\n",
    ")\n",
    "\n",
    "# convert stride to number of samples\n",
    "nstride = [int(file.parts[1].lstrip(\"stride_\")) for file in files]\n",
    "nsamples = [nstride[0] // n for n in nstride]\n",
    "nsamples"
   ]
  },
  {
   "cell_type": "code",
   "execution_count": null,
   "id": "547accdc-2a77-4f0b-bcaf-2617b12c491b",
   "metadata": {},
   "outputs": [],
   "source": [
    "nsteps = len(files)\n",
    "\n",
    "fig, (ax1, ax2) = plt.subplots(nrows=2, sharex=True)\n",
    "\n",
    "data = np.array([read_file(file) for file in files])\n",
    "\n",
    "Gs = data[:, 0, :]\n",
    "Ls = data[:, 1, :]\n",
    "\n",
    "# Convergence w.r.t to last point\n",
    "ax1.plot(Gs - Gs[-1], marker=\".\")\n",
    "ax2.plot(Ls - Ls[-1], marker=\".\")\n",
    "\n",
    "# cosmetics\n",
    "ax1.set_title(\"G point\")\n",
    "ax2.set_title(\"L point\")\n",
    "\n",
    "ax2.set_xticks(np.arange(nsteps))\n",
    "ax2.set_xticklabels(nsamples)\n",
    "ax2.set_xlabel(\"No. of samples\")\n",
    "\n",
    "for ax in (ax1, ax2):\n",
    "    ax.set_ylabel(\"Difference (THz)\")\n",
    "    ax.axhline(0, c=\"k\")\n",
    "    ax.set_ylim(-0.5, 0.5)"
   ]
  },
  {
   "cell_type": "code",
   "execution_count": null,
   "id": "57a2e172-16d8-4ee1-a121-e1fd80c535c1",
   "metadata": {},
   "outputs": [],
   "source": []
  }
 ],
 "metadata": {
  "kernelspec": {
   "display_name": "Python 3 (ipykernel)",
   "language": "python",
   "name": "python3"
  },
  "language_info": {
   "codemirror_mode": {
    "name": "ipython",
    "version": 3
   },
   "file_extension": ".py",
   "mimetype": "text/x-python",
   "name": "python",
   "nbconvert_exporter": "python",
   "pygments_lexer": "ipython3",
   "version": "3.9.15"
  }
 },
 "nbformat": 4,
 "nbformat_minor": 5
}
