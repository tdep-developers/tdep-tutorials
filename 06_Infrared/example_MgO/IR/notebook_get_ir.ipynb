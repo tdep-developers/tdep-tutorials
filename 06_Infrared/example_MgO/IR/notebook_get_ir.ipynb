{
 "cells": [
  {
   "cell_type": "code",
   "execution_count": null,
   "id": "447256c4-617b-44ce-8a7b-c5ff9f06301c",
   "metadata": {},
   "outputs": [],
   "source": [
    "import numpy as np\n",
    "import pandas as pd\n",
    "import xarray as xr\n",
    "from ase.io import read\n",
    "from matplotlib import pyplot as plt\n",
    "from tdeptools.kramers_kronig import get_kk_real_from_imag_uneven as get_kk_real\n",
    "\n",
    "to_invcm = 33.356"
   ]
  },
  {
   "cell_type": "code",
   "execution_count": null,
   "id": "75ebe0cd-dae3-45f9-86cc-0ccc1deda47c",
   "metadata": {},
   "outputs": [],
   "source": [
    "def read_dataset(file: str, group=\"anharmonic\") -> xr.Dataset:\n",
    "    nq = int(xr.load_dataarray(file, group=\"qmesh\")[0])\n",
    "    ds = xr.load_dataset(file, group=group)\n",
    "    ds.attrs.update({\"nq\": nq})\n",
    "    return ds"
   ]
  },
  {
   "cell_type": "code",
   "execution_count": null,
   "id": "95db1573-4d6e-42ba-ba22-6af1859dccdb",
   "metadata": {},
   "outputs": [],
   "source": [
    "# Read the structure\n",
    "atoms = read(\"infile.ucposcar\", format=\"vasp\")\n",
    "\n",
    "# Read the spectral function\n",
    "ds = read_dataset(\"outfile.phonon_self_energy.hdf5\")\n",
    "\n",
    "# Read the mode oscillator strengths\n",
    "df_intensity = pd.read_csv(\"outfile.ir_intensity.csv\", index_col=\"mode\")\n",
    "\n",
    "# Read the electronic contribution to the dielectric tensor, pick xx component (why?)\n",
    "data_loto = np.loadtxt(\"infile.lotosplitting\").reshape(-1, 3, 3)\n",
    "eps_inf = data_loto[0][0, 0]\n",
    "\n",
    "df_intensity"
   ]
  },
  {
   "cell_type": "code",
   "execution_count": null,
   "id": "e034fd8a-cf19-4dbe-b683-0c3114e0c1a9",
   "metadata": {},
   "outputs": [],
   "source": [
    "# spectral function = imaginary part of G:\n",
    "\n",
    "# Which mode are we interested in?\n",
    "s_mode = 3\n",
    "\n",
    "# angular frequency:\n",
    "ws = df_intensity.frequency.iloc[s_mode]\n",
    "\n",
    "Z = df_intensity.Z_x.iloc[s_mode]\n",
    "\n",
    "S = Z ** 2 * df_intensity.prefactor.iloc[s_mode]\n",
    "\n",
    "G_imag = np.pi * ds.spectralfunction_per_mode[s_mode]\n",
    "\n",
    "# KK to get real\n",
    "G_real = get_kk_real(xs=ds.frequency, ys=G_imag)\n",
    "\n",
    "# the full G\n",
    "G = G_real + 1.0j * G_imag\n",
    "\n",
    "\n",
    "pref = ws / 2  # makes G(0) -> ~1\n",
    "\n",
    "# full dielectric function\n",
    "epsilon = eps_inf + S * pref * G\n",
    "\n",
    "\n",
    "# Optical functions, compare Eq. (1) in Fugallo2018:\n",
    "\n",
    "## refraction index\n",
    "n = np.sqrt(0.5 * (abs(epsilon) + epsilon.real))\n",
    "\n",
    "## reflectivity r\n",
    "epsilon_sqrt = np.sqrt(epsilon)\n",
    "r = abs((epsilon_sqrt - 1) / (epsilon_sqrt + 1)) ** 2\n",
    "\n",
    "## Absorption\n",
    "d = 1e-1  # sample thickness, figure out unit\n",
    "A = epsilon.imag / n\n",
    "a = A * d\n",
    "t = np.exp(-a)\n",
    "\n",
    "# transmission\n",
    "T = t * (1 - r) ** 2 / (1 - r ** 2 * t ** 2)\n",
    "R = r * (1 + t * T)"
   ]
  },
  {
   "cell_type": "code",
   "execution_count": null,
   "id": "d5545d3b-1b1b-4382-ad86-542401ff2015",
   "metadata": {},
   "outputs": [],
   "source": [
    "fig, (ax1, ax2, ax3) = plt.subplots(nrows=3, sharex=True)\n",
    "\n",
    "# frequency axis\n",
    "x = ds.frequency * to_invcm\n",
    "\n",
    "ax1.plot(x, epsilon.imag)\n",
    "ax1.plot(x, epsilon.real)\n",
    "ax1.plot(x, (1 / epsilon).imag)\n",
    "ax2.plot(x, R)\n",
    "ax2.plot(x, T)\n",
    "ax2.plot(x, 1 - t)\n",
    "ax3.plot(x, n)\n",
    "ax3.plot(x, epsilon.imag / n)\n",
    "\n",
    "ax1.set_ylim(-10, 20)\n",
    "ax3.set_ylim(0, 10)\n",
    "\n",
    "ax1.legend([\"Im $\\epsilon$\", \"Re $\\epsilon$\", \"Im $1/\\epsilon$\"])\n",
    "ax2.legend([\"R\", \"T\", \"A\"])\n",
    "ax3.legend([\"n\", \"$\\kappa$\"])\n",
    "ax3.set_xlim(0, 2000)\n",
    "\n",
    "for ax in (ax1, ax2, ax3):\n",
    "    ax.axvline(ws * to_invcm, color=\"#313131\", ls=\"--\")"
   ]
  },
  {
   "cell_type": "code",
   "execution_count": null,
   "id": "0bb477a6-e1ff-4173-af07-f99a494abb79",
   "metadata": {},
   "outputs": [],
   "source": []
  }
 ],
 "metadata": {
  "kernelspec": {
   "display_name": "Python 3 (ipykernel)",
   "language": "python",
   "name": "python3"
  },
  "language_info": {
   "codemirror_mode": {
    "name": "ipython",
    "version": 3
   },
   "file_extension": ".py",
   "mimetype": "text/x-python",
   "name": "python",
   "nbconvert_exporter": "python",
   "pygments_lexer": "ipython3",
   "version": "3.9.15"
  }
 },
 "nbformat": 4,
 "nbformat_minor": 5
}
